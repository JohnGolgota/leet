{
 "cells": [
  {
   "cell_type": "markdown",
   "metadata": {},
   "source": [
    "3. Longest Substring Without Repeating Characters\n",
    "Given a string s, find the length of the longest substring without repeating characters.\n",
    "\n",
    "Example 1:\n",
    "Input: s = \"abcabcbb\"\n",
    "Output: 3\n",
    "Explanation: The answer is \"abc\", with the length of 3.\n",
    "\n",
    "Example 2:\n",
    "Input: s = \"bbbbb\"\n",
    "Output: 1\n",
    "Explanation: The answer is \"b\", with the length of 1.\n",
    "Example 3:\n",
    "\n",
    "Input: s = \"pwwkew\"\n",
    "Output: 3\n",
    "Explanation: The answer is \"wke\", with the length of 3.\n",
    "Notice that the answer must be a substring, \"pwke\" is a subsequence and not a substring.\n",
    "\n",
    "Constraints:\n",
    "0 <= s.length <= 5 * 104\n",
    "s consists of English letters, digits, symbols and spaces."
   ]
  },
  {
   "cell_type": "code",
   "execution_count": 1,
   "metadata": {},
   "outputs": [],
   "source": [
    "class LongestSubstringWithoutRepeatingCharacters:\n",
    "    def lengthOfLongestSubstring(self, s: str) -> int:\n",
    "        if not s:\n",
    "            return 0\n",
    "        max_length = 1\n",
    "        start = 0\n",
    "        end = 1\n",
    "        while end < len(s):\n",
    "            if s[end] in s[start:end]:\n",
    "                start += 1\n",
    "            else:\n",
    "                end += 1\n",
    "            max_length = max(max_length, end - start)\n",
    "        return max_length\n",
    "    def lengthOfLongestSubstring2(self, s: str) -> int:\n",
    "        seen = {}\n",
    "        l = 0\n",
    "        output = 0\n",
    "        for r in range(len(s)):\n",
    "            if s[r] not in seen:\n",
    "                output = max(output,r-l+1)\n",
    "            else:\n",
    "                if seen[s[r]] < l:\n",
    "                    output = max(output,r-l+1)\n",
    "                else:\n",
    "                    l = seen[s[r]] + 1\n",
    "            seen[s[r]] = r\n",
    "        return output\n"
   ]
  },
  {
   "cell_type": "code",
   "execution_count": 2,
   "metadata": {},
   "outputs": [
    {
     "name": "stdout",
     "output_type": "stream",
     "text": [
      "3\n"
     ]
    }
   ],
   "source": [
    "s = LongestSubstringWithoutRepeatingCharacters()\n",
    "print(s.lengthOfLongestSubstring(\"abcabcbb\"))"
   ]
  }
 ],
 "metadata": {
  "kernelspec": {
   "display_name": "Python 3",
   "language": "python",
   "name": "python3"
  },
  "language_info": {
   "codemirror_mode": {
    "name": "ipython",
    "version": 3
   },
   "file_extension": ".py",
   "mimetype": "text/x-python",
   "name": "python",
   "nbconvert_exporter": "python",
   "pygments_lexer": "ipython3",
   "version": "3.10.8"
  }
 },
 "nbformat": 4,
 "nbformat_minor": 2
}
