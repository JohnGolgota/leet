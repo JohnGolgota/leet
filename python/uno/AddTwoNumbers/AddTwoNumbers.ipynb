{
 "cells": [
  {
   "cell_type": "markdown",
   "metadata": {},
   "source": [
    "2. Add Two Numbers\n",
    "Solved\n",
    "Medium\n",
    "Topics\n",
    "Companies\n",
    "You are given two non-empty linked lists representing two non-negative integers. The digits are stored in reverse order, and each of their nodes contains a single digit. Add the two numbers and return the sum as a linked list.\n",
    "\n",
    "You may assume the two numbers do not contain any leading zero, except the number 0 itself.\n",
    "\n",
    " \n",
    "\n",
    "Example 1:\n",
    "\n",
    "\n",
    "Input: l1 = [2,4,3], l2 = [5,6,4]\n",
    "Output: [7,0,8]\n",
    "Explanation: 342 + 465 = 807.\n",
    "Example 2:\n",
    "\n",
    "Input: l1 = [0], l2 = [0]\n",
    "Output: [0]\n",
    "Example 3:\n",
    "\n",
    "Input: l1 = [9,9,9,9,9,9,9], l2 = [9,9,9,9]\n",
    "Output: [8,9,9,9,0,0,0,1]\n",
    " \n",
    "\n",
    "Constraints:\n",
    "\n",
    "The number of nodes in each linked list is in the range [1, 100].\n",
    "0 <= Node.val <= 9\n",
    "It is guaranteed that the list represents a number that does not have leading zeros."
   ]
  },
  {
   "cell_type": "code",
   "execution_count": 1,
   "metadata": {},
   "outputs": [],
   "source": [
    "class ListNode:\n",
    "    def __init__(self, val=0, next=None):\n",
    "        self.val = val\n",
    "        self.next = next"
   ]
  },
  {
   "cell_type": "code",
   "execution_count": 2,
   "metadata": {},
   "outputs": [],
   "source": [
    "class AddTwoNumbers:\n",
    "    def addTwoNumbers(self, l1: ListNode, l2: ListNode) -> ListNode:\n",
    "        head = ListNode()\n",
    "        curr = head\n",
    "        carry = 0\n",
    "        while l1 or l2:\n",
    "            val1 = l1.val if l1 else 0\n",
    "            val2 = l2.val if l2 else 0\n",
    "            curr.next = ListNode((val1 + val2 + carry) % 10)\n",
    "            carry = (val1 + val2 + carry) // 10\n",
    "            curr = curr.next\n",
    "            l1 = l1.next if l1 else None\n",
    "            l2 = l2.next if l2 else None\n",
    "\n",
    "        if carry:\n",
    "            curr.next = ListNode(carry)\n",
    "\n",
    "        return head.next\n",
    "    \n",
    "    def addTwoNumbersRobada(self, l1: ListNode, l2: ListNode) -> ListNode:\n",
    "        dummy = ListNode()\n",
    "        ans = dummy\n",
    "\n",
    "        carry = 0\n",
    "\n",
    "        while l1 and l2:\n",
    "            res = (l1.val + l2.val + carry) % 10 \n",
    "            carry =  (l1.val + l2.val + carry) // 10  \n",
    "            ans.next = ListNode(res)\n",
    "            ans = ans.next\n",
    "            l1 = l1.next\n",
    "            l2 = l2.next\n",
    "\n",
    "        while l1:\n",
    "            res = (l1.val + carry) % 10 \n",
    "            carry =  (l1.val  + carry) // 10            \n",
    "            ans.next = ListNode(res)\n",
    "            ans = ans.next\n",
    "            l1 = l1.next\n",
    "\n",
    "        while l2:\n",
    "            res = (l2.val + carry) % 10 \n",
    "            carry =  (l2.val  + carry) // 10            \n",
    "            ans.next = ListNode(res)\n",
    "            ans = ans.next\n",
    "            l2 = l2.next\n",
    "        \n",
    "        if carry:\n",
    "            ans.next = ListNode(carry)\n",
    "            ans = ans.next\n",
    "\n",
    "\n",
    "        return dummy.next\n"
   ]
  },
  {
   "cell_type": "code",
   "execution_count": 3,
   "metadata": {},
   "outputs": [
    {
     "name": "stdout",
     "output_type": "stream",
     "text": [
      "708"
     ]
    }
   ],
   "source": [
    "l1 = ListNode(2, ListNode(4, ListNode(3)))\n",
    "l2 = ListNode(5, ListNode(6, ListNode(4)))\n",
    "result = AddTwoNumbers().addTwoNumbers(l1, l2)\n",
    "while result:\n",
    "    print(result.val, end='')\n",
    "    result = result.next"
   ]
  }
 ],
 "metadata": {
  "kernelspec": {
   "display_name": "Python 3",
   "language": "python",
   "name": "python3"
  },
  "language_info": {
   "codemirror_mode": {
    "name": "ipython",
    "version": 3
   },
   "file_extension": ".py",
   "mimetype": "text/x-python",
   "name": "python",
   "nbconvert_exporter": "python",
   "pygments_lexer": "ipython3",
   "version": "3.10.8"
  }
 },
 "nbformat": 4,
 "nbformat_minor": 2
}
