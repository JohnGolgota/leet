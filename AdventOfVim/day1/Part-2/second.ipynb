{
 "cells": [
  {
   "cell_type": "code",
   "execution_count": null,
   "metadata": {},
   "outputs": [],
   "source": [
    "import csv\n",
    "import re"
   ]
  },
  {
   "cell_type": "code",
   "execution_count": null,
   "metadata": {},
   "outputs": [],
   "source": [
    "imput_file = open(\"secondtry.csv\", \"r\")\n",
    "\n",
    "reader = csv.reader(imput_file)\n",
    "dataset = list(reader)"
   ]
  },
  {
   "cell_type": "code",
   "execution_count": null,
   "metadata": {},
   "outputs": [],
   "source": [
    "spellednumbers = {\n",
    "    \"one\": 1,\n",
    "    \"two\": 2,\n",
    "    \"three\": 3,\n",
    "    \"four\": 4,\n",
    "    \"five\" : 5,\n",
    "    \"six\" : 6,\n",
    "    \"seven\" : 7,\n",
    "    \"eight\" : 8,\n",
    "    \"nine\" : 9,\n",
    "    \"1\": 1,\n",
    "    \"2\": 2,\n",
    "    \"3\": 3,\n",
    "    \"4\": 4,\n",
    "    \"5\" : 5,\n",
    "    \"6\" : 6,\n",
    "    \"7\" : 7,\n",
    "    \"8\" : 8,\n",
    "    \"9\" : 9\n",
    "}\n",
    "spellednumbers"
   ]
  },
  {
   "cell_type": "code",
   "execution_count": null,
   "metadata": {},
   "outputs": [],
   "source": [
    "def cleanDataset(data):\n",
    "    result = []\n",
    "    # Debug\n",
    "    # iterator = 0\n",
    "    for item in data:\n",
    "        \n",
    "        resultItem = []\n",
    "        matches = []\n",
    "\n",
    "        for reg in spellednumbers.keys():\n",
    "            for coincidence in re.finditer(reg, item[0]):\n",
    "                matches.append(coincidence)\n",
    "        \n",
    "        matches.sort(key=lambda x: x.span()[0])\n",
    "\n",
    "        for coincidence in matches:\n",
    "            resultItem.append(spellednumbers[coincidence.group(0)])\n",
    "\n",
    "        if len(resultItem) < 2:\n",
    "            resultItem.append(resultItem[0])\n",
    "        \n",
    "        resultItem = [resultItem[0], resultItem[len(resultItem)-1]]\n",
    "        resultItem = int(\"\".join(map(str, resultItem)))\n",
    "        result.append(resultItem)\n",
    "\n",
    "        # Debug\n",
    "        # iterator += 1\n",
    "        # if iterator > 10:\n",
    "        #     break\n",
    "    return result"
   ]
  },
  {
   "cell_type": "code",
   "execution_count": null,
   "metadata": {},
   "outputs": [],
   "source": [
    "result = cleanDataset(dataset)\n",
    "result"
   ]
  },
  {
   "cell_type": "code",
   "execution_count": null,
   "metadata": {},
   "outputs": [],
   "source": [
    "suma = sum(result)\n",
    "suma"
   ]
  }
 ],
 "metadata": {
  "kernelspec": {
   "display_name": "Python 3",
   "language": "python",
   "name": "python3"
  },
  "language_info": {
   "codemirror_mode": {
    "name": "ipython",
    "version": 3
   },
   "file_extension": ".py",
   "mimetype": "text/x-python",
   "name": "python",
   "nbconvert_exporter": "python",
   "pygments_lexer": "ipython3",
   "version": "3.11.6"
  }
 },
 "nbformat": 4,
 "nbformat_minor": 2
}
